{
  "nbformat": 4,
  "nbformat_minor": 0,
  "metadata": {
    "colab": {
      "provenance": [],
      "authorship_tag": "ABX9TyMewknCu3C+mYOoGrodBmh9",
      "include_colab_link": true
    },
    "kernelspec": {
      "name": "python3",
      "display_name": "Python 3"
    },
    "language_info": {
      "name": "python"
    }
  },
  "cells": [
    {
      "cell_type": "markdown",
      "metadata": {
        "id": "view-in-github",
        "colab_type": "text"
      },
      "source": [
        "<a href=\"https://colab.research.google.com/github/Que1Pereza2/Mr.CrabsAnalyzer/blob/main/CanYouFeelItNow.ipynb\" target=\"_parent\"><img src=\"https://colab.research.google.com/assets/colab-badge.svg\" alt=\"Open In Colab\"/></a>"
      ]
    },
    {
      "cell_type": "markdown",
      "source": [
        "Imports block"
      ],
      "metadata": {
        "id": "g2k6GntyZM4y"
      }
    },
    {
      "cell_type": "code",
      "source": [
        "import numpy as np\n",
        "import pandas as pd\n",
        "import re\n",
        "import nltk\n",
        "import matplotlib.pyplot as plt\n",
        "%matplotlib inline\n",
        "from nltk.corpus import stopwords\n",
        "from sklearn.feature_extraction.text import TfidfVectorizer\n",
        "from sklearn.model_selection import train_test_split\n",
        "from sklearn.ensemble import RandomForestClassifier\n",
        "from sklearn.metrics import classification_report, confusion_matrix, accuracy_score\n",
        "from imblearn.under_sampling import RandomUnderSampler"
      ],
      "metadata": {
        "id": "bVEQV0c3ZHDb"
      },
      "execution_count": 55,
      "outputs": []
    },
    {
      "cell_type": "markdown",
      "source": [
        "This block reads the None2775.csv file and creates the arrays features and labels."
      ],
      "metadata": {
        "id": "zpf-RTogZQzq"
      }
    },
    {
      "cell_type": "code",
      "execution_count": 63,
      "metadata": {
        "id": "KaPicB6KKNQ7"
      },
      "outputs": [],
      "source": [
        "reviews = pd.read_csv(\"None2775.csv\")\n",
        "\n",
        "features = reviews.iloc[:,0].values\n",
        "labels = reviews.iloc[:,1].values"
      ]
    },
    {
      "cell_type": "markdown",
      "source": [
        "This function uses regex to clean the data and prepares it for the neural network to train on."
      ],
      "metadata": {
        "id": "PyCD7YTHaWso"
      }
    },
    {
      "cell_type": "code",
      "source": [
        "processed_features = []\n",
        "for sentence in range(0, len(features)):\n",
        "    # Remove all the special characters\n",
        "    processed_feature = re.sub(r'\\W', ' ', str(features[sentence]))\n",
        "\n",
        "    # remove all single characters\n",
        "    processed_feature= re.sub(r'\\s+[a-zA-Z]\\s+', ' ', processed_feature)\n",
        "\n",
        "    # Remove single characters from the start\n",
        "    processed_feature = re.sub(r'\\^[a-zA-Z]\\s+', ' ', processed_feature)\n",
        "\n",
        "    # Substituting multiple spaces with single space\n",
        "    processed_feature = re.sub(r'\\s+', ' ', processed_feature, flags=re.I)\n",
        "\n",
        "    # Removing prefixed 'b'\n",
        "    processed_feature = re.sub(r'^b\\s+', '', processed_feature)\n",
        "\n",
        "    # Converting to Lowercase\n",
        "    processed_feature = processed_feature.lower()\n",
        "\n",
        "    processed_features.append(processed_feature)\n",
        "\n",
        "vectorizer = TfidfVectorizer (max_features=2500, min_df=7, max_df=0.8)\n",
        "processed_features = vectorizer.fit_transform(processed_features).toarray()\n"
      ],
      "metadata": {
        "id": "Ie15LZ40ajS9"
      },
      "execution_count": 57,
      "outputs": []
    },
    {
      "cell_type": "markdown",
      "source": [
        "Here we convert the array scores from strings to int."
      ],
      "metadata": {
        "id": "6kd9gZty33z7"
      }
    },
    {
      "cell_type": "code",
      "source": [
        "# Create a Pandas Series\n",
        "string_series = pd.Series(labels)\n",
        "# Converting to int after removing quotation marks\n",
        "labels = [int(x.replace('\"', '')) for x in string_series]\n",
        "labels = pd.DataFrame(labels)"
      ],
      "metadata": {
        "id": "LDTVWelF33Y5"
      },
      "execution_count": 89,
      "outputs": []
    },
    {
      "cell_type": "markdown",
      "source": [
        "This block handles the undersampling of the positive reviews so the scores appear in equal quantity."
      ],
      "metadata": {
        "id": "zehMyw2SHcxN"
      }
    },
    {
      "cell_type": "code",
      "source": [
        "# Separate the classes\n",
        "majority_class = reviews[reviews['score'] == 1]\n",
        "minority_class = reviews[reviews['score'] == 0]\n",
        "print(reviews['score'].unique())\n",
        "\n",
        "# Downsample majority class\n",
        "majority_downsampled = majority_class.sample(n=len(minority_class), random_state=42)\n",
        "\n",
        "# Combine minority class with downsampled majority class\n",
        "balanced_df = pd.concat([majority_downsampled, minority_class])\n",
        "\n",
        "# Shuffle the resulting DataFrame\n",
        "balanced_df = balanced_df.sample(frac=1, random_state=42).reset_index(drop=True)\n",
        "\n",
        "print(balanced_df)\n"
      ],
      "metadata": {
        "id": "6UECDICLHdZp",
        "outputId": "7b9e059e-9d1f-47af-f280-9a95abe608b9",
        "colab": {
          "base_uri": "https://localhost:8080/"
        }
      },
      "execution_count": 88,
      "outputs": [
        {
          "output_type": "stream",
          "name": "stdout",
          "text": [
            "['\"1\"' '\"0\"']\n",
            "Empty DataFrame\n",
            "Columns: [review, score]\n",
            "Index: []\n"
          ]
        }
      ]
    },
    {
      "cell_type": "markdown",
      "source": [
        "Creating and feeding the data to the Neural Network"
      ],
      "metadata": {
        "id": "9cznXDJOaMVa"
      }
    },
    {
      "cell_type": "code",
      "source": [
        "rus = RandomUnderSampler(random_state=42, sampling_strategy = 'majority')\n",
        "\n",
        "X_train, X_test, y_train, y_test = train_test_split(processed_features, labels, test_size=0.2, random_state=0)\n",
        "\n",
        "X_resampled, y_X_resampled = rus.fit_resample(X_train, y_train)\n",
        "\n",
        "text_classifier = RandomForestClassifier(criterion=\"entropy\",n_estimators=200, random_state=42)\n",
        "\n",
        "text_classifier.fit(X_resampled, y_X_resampled)\n",
        "# text_classifier.fit(X_train, y_train)\n",
        "\n",
        "predictions = text_classifier.predict(X_test)\n",
        "\n",
        "from pprint import pprint"
      ],
      "metadata": {
        "id": "qqtWoNHMaSQR",
        "outputId": "b664ddf6-83b0-4ea4-909a-80a03daaa266",
        "colab": {
          "base_uri": "https://localhost:8080/"
        }
      },
      "execution_count": 59,
      "outputs": [
        {
          "output_type": "stream",
          "name": "stdout",
          "text": [
            "Parameters currently in use:\n",
            "\n",
            "{'bootstrap': True,\n",
            " 'ccp_alpha': 0.0,\n",
            " 'class_weight': None,\n",
            " 'criterion': 'entropy',\n",
            " 'max_depth': None,\n",
            " 'max_features': 'sqrt',\n",
            " 'max_leaf_nodes': None,\n",
            " 'max_samples': None,\n",
            " 'min_impurity_decrease': 0.0,\n",
            " 'min_samples_leaf': 1,\n",
            " 'min_samples_split': 2,\n",
            " 'min_weight_fraction_leaf': 0.0,\n",
            " 'monotonic_cst': None,\n",
            " 'n_estimators': 200,\n",
            " 'n_jobs': None,\n",
            " 'oob_score': False,\n",
            " 'random_state': 42,\n",
            " 'verbose': 0,\n",
            " 'warm_start': False}\n"
          ]
        }
      ]
    },
    {
      "cell_type": "markdown",
      "source": [
        "Neural Network stats"
      ],
      "metadata": {
        "id": "SxrQgf5WZ136"
      }
    },
    {
      "cell_type": "code",
      "source": [
        "print(confusion_matrix(y_test,predictions))\n",
        "print(classification_report(y_test,predictions))\n",
        "print(accuracy_score(y_test, predictions))"
      ],
      "metadata": {
        "id": "J3xfwxO7Z94L",
        "outputId": "be1eaf4b-82ca-400e-a630-6134b806219d",
        "colab": {
          "base_uri": "https://localhost:8080/"
        }
      },
      "execution_count": 97,
      "outputs": [
        {
          "output_type": "stream",
          "name": "stdout",
          "text": [
            "[[ 444  101]\n",
            " [ 279 1187]]\n",
            "              precision    recall  f1-score   support\n",
            "\n",
            "           0       0.61      0.81      0.70       545\n",
            "           1       0.92      0.81      0.86      1466\n",
            "\n",
            "    accuracy                           0.81      2011\n",
            "   macro avg       0.77      0.81      0.78      2011\n",
            "weighted avg       0.84      0.81      0.82      2011\n",
            "\n",
            "0.8110392839383391\n"
          ]
        }
      ]
    },
    {
      "cell_type": "markdown",
      "source": [
        "Using the AI"
      ],
      "metadata": {
        "id": "RNOYVDWWLx0t"
      }
    },
    {
      "cell_type": "code",
      "source": [
        "reviewToPredict = input(f\"Please provide a review!\\n \")\n",
        "if text_classifier.predict(vectorizer.transform([reviewToPredict]).toarray()) == 1:\n",
        "    print(\"The review is positive\")\n",
        "else:\n",
        "    print(\"The review is negative\")"
      ],
      "metadata": {
        "id": "sIID2jxJLynq",
        "outputId": "2b10458e-db5c-418b-a924-0da8ba269ba4",
        "colab": {
          "base_uri": "https://localhost:8080/"
        }
      },
      "execution_count": 96,
      "outputs": [
        {
          "output_type": "stream",
          "name": "stdout",
          "text": [
            "Please provide a review!\n",
            " I didn't like the movie, it was awful\n",
            "The review is negative\n"
          ]
        }
      ]
    }
  ]
}