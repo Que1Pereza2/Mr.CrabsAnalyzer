{
  "nbformat": 4,
  "nbformat_minor": 0,
  "metadata": {
    "colab": {
      "provenance": [],
      "authorship_tag": "ABX9TyOTs57nB1PcC/FxUFmRTx43",
      "include_colab_link": true
    },
    "kernelspec": {
      "name": "python3",
      "display_name": "Python 3"
    },
    "language_info": {
      "name": "python"
    }
  },
  "cells": [
    {
      "cell_type": "markdown",
      "metadata": {
        "id": "view-in-github",
        "colab_type": "text"
      },
      "source": [
        "<a href=\"https://colab.research.google.com/github/Que1Pereza2/Mr.CrabsAnalyzer/blob/main/CanYouFeelItNow.ipynb\" target=\"_parent\"><img src=\"https://colab.research.google.com/assets/colab-badge.svg\" alt=\"Open In Colab\"/></a>"
      ]
    },
    {
      "cell_type": "markdown",
      "source": [
        "Imports block"
      ],
      "metadata": {
        "id": "g2k6GntyZM4y"
      }
    },
    {
      "cell_type": "code",
      "source": [
        "import numpy as np\n",
        "import pandas as pd\n",
        "import re\n",
        "import nltk\n",
        "import matplotlib.pyplot as plt\n",
        "%matplotlib inline\n",
        "from nltk.corpus import stopwords\n",
        "from sklearn.feature_extraction.text import TfidfVectorizer\n",
        "from sklearn.model_selection import train_test_split\n",
        "from sklearn.ensemble import RandomForestClassifier\n",
        "from sklearn.metrics import classification_report, confusion_matrix, accuracy_score"
      ],
      "metadata": {
        "id": "bVEQV0c3ZHDb"
      },
      "execution_count": 11,
      "outputs": []
    },
    {
      "cell_type": "markdown",
      "source": [
        "This block reads the None2775.csv file and creates the arrays features and labels."
      ],
      "metadata": {
        "id": "zpf-RTogZQzq"
      }
    },
    {
      "cell_type": "code",
      "execution_count": 10,
      "metadata": {
        "id": "KaPicB6KKNQ7"
      },
      "outputs": [],
      "source": [
        "reviews = pd.read_csv(\"None2775.csv\")\n",
        "\n",
        "features = reviews.iloc[:,0].values\n",
        "labels = reviews.iloc[:,1].values"
      ]
    },
    {
      "cell_type": "markdown",
      "source": [
        "This function uses regex to clean the data and prepares it for the neural network to train on."
      ],
      "metadata": {
        "id": "PyCD7YTHaWso"
      }
    },
    {
      "cell_type": "code",
      "source": [
        "processed_features = []\n",
        "for sentence in range(0, len(features)):\n",
        "    # Remove all the special characters\n",
        "    processed_feature = re.sub(r'\\W', ' ', str(features[sentence]))\n",
        "\n",
        "    # remove all single characters\n",
        "    processed_feature= re.sub(r'\\s+[a-zA-Z]\\s+', ' ', processed_feature)\n",
        "\n",
        "    # Remove single characters from the start\n",
        "    processed_feature = re.sub(r'\\^[a-zA-Z]\\s+', ' ', processed_feature)\n",
        "\n",
        "    # Substituting multiple spaces with single space\n",
        "    processed_feature = re.sub(r'\\s+', ' ', processed_feature, flags=re.I)\n",
        "\n",
        "    # Removing prefixed 'b'\n",
        "    processed_feature = re.sub(r'^b\\s+', '', processed_feature)\n",
        "\n",
        "    # Converting to Lowercase\n",
        "    processed_feature = processed_feature.lower()\n",
        "\n",
        "    processed_features.append(processed_feature)\n"
      ],
      "metadata": {
        "id": "Ie15LZ40ajS9"
      },
      "execution_count": 12,
      "outputs": []
    },
    {
      "cell_type": "markdown",
      "source": [
        "Creating and feeding the data to the Neural Network"
      ],
      "metadata": {
        "id": "9cznXDJOaMVa"
      }
    },
    {
      "cell_type": "code",
      "source": [
        "vectorizer = TfidfVectorizer (max_features=2500, min_df=7, max_df=0.8)\n",
        "processed_features = vectorizer.fit_transform(processed_features).toarray()\n",
        "\n",
        "X_train, X_test, y_train, y_test = train_test_split(processed_features, labels, test_size=0.2, random_state=0)\n",
        "\n",
        "text_classifier = RandomForestClassifier(n_estimators=200, random_state=0)\n",
        "text_classifier.fit(X_train, y_train)\n",
        "\n",
        "predictions = text_classifier.predict(X_test)\n",
        "\n"
      ],
      "metadata": {
        "id": "qqtWoNHMaSQR"
      },
      "execution_count": 13,
      "outputs": []
    },
    {
      "cell_type": "markdown",
      "source": [
        "Neural Network stats"
      ],
      "metadata": {
        "id": "SxrQgf5WZ136"
      }
    },
    {
      "cell_type": "code",
      "source": [
        "print(confusion_matrix(y_test,predictions))\n",
        "print(classification_report(y_test,predictions))\n",
        "print(accuracy_score(y_test, predictions))"
      ],
      "metadata": {
        "id": "J3xfwxO7Z94L",
        "outputId": "aa95b27c-dbb4-4cc1-9fd3-b700ff2fc7ba",
        "colab": {
          "base_uri": "https://localhost:8080/"
        }
      },
      "execution_count": 9,
      "outputs": [
        {
          "output_type": "stream",
          "name": "stdout",
          "text": [
            "[[ 237  308]\n",
            " [  46 1420]]\n",
            "              precision    recall  f1-score   support\n",
            "\n",
            "         \"0\"       0.84      0.43      0.57       545\n",
            "         \"1\"       0.82      0.97      0.89      1466\n",
            "\n",
            "    accuracy                           0.82      2011\n",
            "   macro avg       0.83      0.70      0.73      2011\n",
            "weighted avg       0.83      0.82      0.80      2011\n",
            "\n",
            "0.8239681750372949\n"
          ]
        }
      ]
    }
  ]
}