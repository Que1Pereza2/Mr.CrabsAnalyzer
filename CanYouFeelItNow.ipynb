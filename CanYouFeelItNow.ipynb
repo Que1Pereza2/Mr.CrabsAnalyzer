{
  "nbformat": 4,
  "nbformat_minor": 0,
  "metadata": {
    "colab": {
      "provenance": [],
      "authorship_tag": "ABX9TyPi+yIKQ4NyfMQiFoZ8e5yA",
      "include_colab_link": true
    },
    "kernelspec": {
      "name": "python3",
      "display_name": "Python 3"
    },
    "language_info": {
      "name": "python"
    }
  },
  "cells": [
    {
      "cell_type": "markdown",
      "metadata": {
        "id": "view-in-github",
        "colab_type": "text"
      },
      "source": [
        "<a href=\"https://colab.research.google.com/github/Que1Pereza2/Mr.CrabsAnalyzer/blob/main/CanYouFeelItNow.ipynb\" target=\"_parent\"><img src=\"https://colab.research.google.com/assets/colab-badge.svg\" alt=\"Open In Colab\"/></a>"
      ]
    },
    {
      "cell_type": "markdown",
      "source": [
        "Imports block"
      ],
      "metadata": {
        "id": "g2k6GntyZM4y"
      }
    },
    {
      "cell_type": "code",
      "source": [
        "import numpy as np\n",
        "import pandas as pd\n",
        "import re\n",
        "import nltk\n",
        "import matplotlib.pyplot as plt\n",
        "%matplotlib inline\n",
        "from nltk.corpus import stopwords\n",
        "from sklearn.feature_extraction.text import TfidfVectorizer\n",
        "from sklearn.model_selection import train_test_split\n",
        "from sklearn.ensemble import RandomForestClassifier\n",
        "from sklearn.metrics import classification_report, confusion_matrix, accuracy_score\n",
        "from imblearn.under_sampling import RandomUnderSampler"
      ],
      "metadata": {
        "id": "bVEQV0c3ZHDb"
      },
      "execution_count": 166,
      "outputs": []
    },
    {
      "cell_type": "markdown",
      "source": [
        "This block reads the None2775.csv file and creates the arrays features and labels."
      ],
      "metadata": {
        "id": "zpf-RTogZQzq"
      }
    },
    {
      "cell_type": "code",
      "source": [
        "reviews = pd.read_csv(\"None2775.csv\")\n",
        "\n"
      ],
      "metadata": {
        "id": "fzLgdgZqUl2w"
      },
      "execution_count": 167,
      "outputs": []
    },
    {
      "cell_type": "code",
      "execution_count": 168,
      "metadata": {
        "id": "KaPicB6KKNQ7",
        "colab": {
          "base_uri": "https://localhost:8080/"
        },
        "outputId": "cefd9bfd-e8de-42bd-ebdd-a7e6d48103f9"
      },
      "outputs": [
        {
          "output_type": "stream",
          "name": "stdout",
          "text": [
            "[1 0]\n"
          ]
        }
      ],
      "source": [
        "reviews['score'] = reviews['score'].str.replace('\"', '').astype(int)\n",
        "\n",
        "# Verify the result\n",
        "print(reviews['score'].unique())\n",
        "\n",
        "features = reviews.iloc[:,0].values\n",
        "labels = reviews.iloc[:,1].values"
      ]
    },
    {
      "cell_type": "markdown",
      "source": [
        "This function uses regex to clean the data and prepares it for the neural network to train on."
      ],
      "metadata": {
        "id": "PyCD7YTHaWso"
      }
    },
    {
      "cell_type": "code",
      "source": [
        "processed_features = []\n",
        "for sentence in range(0, len(features)):\n",
        "    # Remove all the special characters\n",
        "    processed_feature = re.sub(r'\\W', ' ', str(features[sentence]))\n",
        "\n",
        "    # remove all single characters\n",
        "    processed_feature= re.sub(r'\\s+[a-zA-Z]\\s+', ' ', processed_feature)\n",
        "\n",
        "    # Remove single characters from the start\n",
        "    processed_feature = re.sub(r'\\^[a-zA-Z]\\s+', ' ', processed_feature)\n",
        "\n",
        "    # Substituting multiple spaces with single space\n",
        "    processed_feature = re.sub(r'\\s+', ' ', processed_feature, flags=re.I)\n",
        "\n",
        "    # Removing prefixed 'b'\n",
        "    processed_feature = re.sub(r'^b\\s+', '', processed_feature)\n",
        "\n",
        "    # Converting to Lowercase\n",
        "    processed_feature = processed_feature.lower()\n",
        "\n",
        "    processed_features.append(processed_feature)\n",
        "\n",
        "vectorizer = TfidfVectorizer (max_features=2500, min_df=7, max_df=0.8)\n",
        "processed_features = vectorizer.fit_transform(processed_features).toarray()\n"
      ],
      "metadata": {
        "id": "Ie15LZ40ajS9"
      },
      "execution_count": 148,
      "outputs": []
    },
    {
      "cell_type": "markdown",
      "source": [
        "This block handles the undersampling of the positive reviews so the scores appear in equal quantity."
      ],
      "metadata": {
        "id": "zehMyw2SHcxN"
      }
    },
    {
      "cell_type": "code",
      "source": [
        "# Separate the classes\n",
        "majority_class = labels[labels == 1]\n",
        "minority_class = labels[labels == 0]\n",
        "print(reviews['score'].unique())\n",
        "\n",
        "\n",
        "# Downsample majority class\n",
        "majority_downsampled = majority_class.sample(n=len(minority_class), random_state=42)\n",
        "\n",
        "# Combine minority class with downsampled majority class\n",
        "balanced_df = pd.concat([majority_downsampled, minority_class])\n",
        "\n",
        "# Shuffle the resulting DataFrame\n",
        "balanced_df = balanced_df.sample(frac=1, random_state=42).reset_index(drop=True)\n",
        "\n",
        "print(balanced_df)\n"
      ],
      "metadata": {
        "colab": {
          "base_uri": "https://localhost:8080/",
          "height": 228
        },
        "id": "6UECDICLHdZp",
        "outputId": "c7e17fa9-9cbc-4035-9ea6-4eaf3d86ded6"
      },
      "execution_count": 169,
      "outputs": [
        {
          "output_type": "stream",
          "name": "stdout",
          "text": [
            "[1 0]\n"
          ]
        },
        {
          "output_type": "error",
          "ename": "AttributeError",
          "evalue": "'numpy.ndarray' object has no attribute 'sample'",
          "traceback": [
            "\u001b[0;31m---------------------------------------------------------------------------\u001b[0m",
            "\u001b[0;31mAttributeError\u001b[0m                            Traceback (most recent call last)",
            "\u001b[0;32m<ipython-input-169-639f04085a67>\u001b[0m in \u001b[0;36m<cell line: 8>\u001b[0;34m()\u001b[0m\n\u001b[1;32m      6\u001b[0m \u001b[0;34m\u001b[0m\u001b[0m\n\u001b[1;32m      7\u001b[0m \u001b[0;31m# Downsample majority class\u001b[0m\u001b[0;34m\u001b[0m\u001b[0;34m\u001b[0m\u001b[0m\n\u001b[0;32m----> 8\u001b[0;31m \u001b[0mmajority_downsampled\u001b[0m \u001b[0;34m=\u001b[0m \u001b[0mmajority_class\u001b[0m\u001b[0;34m.\u001b[0m\u001b[0msample\u001b[0m\u001b[0;34m(\u001b[0m\u001b[0mn\u001b[0m\u001b[0;34m=\u001b[0m\u001b[0mlen\u001b[0m\u001b[0;34m(\u001b[0m\u001b[0mminority_class\u001b[0m\u001b[0;34m)\u001b[0m\u001b[0;34m,\u001b[0m \u001b[0mrandom_state\u001b[0m\u001b[0;34m=\u001b[0m\u001b[0;36m42\u001b[0m\u001b[0;34m)\u001b[0m\u001b[0;34m\u001b[0m\u001b[0;34m\u001b[0m\u001b[0m\n\u001b[0m\u001b[1;32m      9\u001b[0m \u001b[0;34m\u001b[0m\u001b[0m\n\u001b[1;32m     10\u001b[0m \u001b[0;31m# Combine minority class with downsampled majority class\u001b[0m\u001b[0;34m\u001b[0m\u001b[0;34m\u001b[0m\u001b[0m\n",
            "\u001b[0;31mAttributeError\u001b[0m: 'numpy.ndarray' object has no attribute 'sample'"
          ]
        }
      ]
    },
    {
      "cell_type": "markdown",
      "source": [
        "Creating and feeding the data to the Neural Network"
      ],
      "metadata": {
        "id": "9cznXDJOaMVa"
      }
    },
    {
      "cell_type": "code",
      "source": [
        "rus = RandomUnderSampler(random_state=42, sampling_strategy = 'majority')\n",
        "\n",
        "X_train, X_test, y_train, y_test = train_test_split(processed_features, labels, test_size=0.2, random_state=0)\n",
        "\n",
        "X_resampled, y_X_resampled = rus.fit_resample(X_train, y_train)\n",
        "\n",
        "text_classifier = RandomForestClassifier(criterion=\"entropy\",n_estimators=200, random_state=42)\n",
        "\n",
        "text_classifier.fit(X_resampled, y_X_resampled)\n",
        "# text_classifier.fit(X_train, y_train)\n",
        "\n",
        "predictions = text_classifier.predict(X_test)"
      ],
      "metadata": {
        "id": "qqtWoNHMaSQR"
      },
      "execution_count": 101,
      "outputs": []
    },
    {
      "cell_type": "markdown",
      "source": [
        "Neural Network stats"
      ],
      "metadata": {
        "id": "SxrQgf5WZ136"
      }
    },
    {
      "cell_type": "code",
      "source": [
        "print(confusion_matrix(y_test,predictions))\n",
        "print(classification_report(y_test,predictions))\n",
        "print(accuracy_score(y_test, predictions))"
      ],
      "metadata": {
        "id": "J3xfwxO7Z94L",
        "outputId": "d6b2ea19-8511-41f9-dc57-c8ca87415fb5",
        "colab": {
          "base_uri": "https://localhost:8080/"
        }
      },
      "execution_count": 102,
      "outputs": [
        {
          "output_type": "stream",
          "name": "stdout",
          "text": [
            "[[ 444  101]\n",
            " [ 279 1187]]\n",
            "              precision    recall  f1-score   support\n",
            "\n",
            "           0       0.61      0.81      0.70       545\n",
            "           1       0.92      0.81      0.86      1466\n",
            "\n",
            "    accuracy                           0.81      2011\n",
            "   macro avg       0.77      0.81      0.78      2011\n",
            "weighted avg       0.84      0.81      0.82      2011\n",
            "\n",
            "0.8110392839383391\n"
          ]
        }
      ]
    },
    {
      "cell_type": "markdown",
      "source": [
        "Using the AI"
      ],
      "metadata": {
        "id": "RNOYVDWWLx0t"
      }
    },
    {
      "cell_type": "code",
      "source": [
        "reviewToPredict = input(f\"Please provide a review!\\n \")\n",
        "if text_classifier.predict(vectorizer.transform([reviewToPredict]).toarray()) == 1:\n",
        "    print(\"The review is positive\")\n",
        "else:\n",
        "    print(\"The review is negative\")"
      ],
      "metadata": {
        "id": "9JhDqxmKVywK"
      },
      "execution_count": null,
      "outputs": []
    }
  ]
}